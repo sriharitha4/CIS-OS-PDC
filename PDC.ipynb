{
 "cells": [
  {
   "cell_type": "code",
   "execution_count": null,
   "metadata": {},
   "outputs": [],
   "source": [
    "# If Using CoLab, Use Runtime>Restart Session To Update Modules\n",
    "! pip install -e \"git+https://github.com/sriharitha4/CIS-OS-PDC#egg=PDC&subdirectory=PDCPackage\"\n",
    "\n",
    "from IPython.display import clear_output\n",
    "clear_output()"
   ]
  },
  {
   "cell_type": "markdown",
   "metadata": {},
   "source": [
    "---\n",
    "# **Locality:**"
   ]
  },
  {
   "cell_type": "code",
   "execution_count": null,
   "metadata": {},
   "outputs": [],
   "source": [
    "from PDC.Locality import Data, render\n",
    "\n",
    "# 'Data' Is An Array Like Class\n",
    "# def __init__(memory_len, cache_len):\n",
    "data = Data(10, 5)\n",
    "\n",
    "# Try Out Your Own Algorithms :)\n",
    "# https://github.com/SvenWoltmann/sorting-algorithms-ultimate-guide\n",
    "def square_root():\n",
    "    for i in range(len(data)):\n",
    "        data[i] = int(data[i] ** (1 / 2))\n",
    "\n",
    "square_root()\n",
    "\n",
    "# Render Your Data To Observe It's Cache Behavior\n",
    "render(data)"
   ]
  },
  {
   "cell_type": "markdown",
   "metadata": {},
   "source": [
    "---\n",
    "# **Concurrency:**"
   ]
  },
  {
   "cell_type": "code",
   "execution_count": null,
   "metadata": {},
   "outputs": [],
   "source": [
    "from PDC.Concurrency import Screen\n",
    "from threading import Thread # This Could Be Useful\n",
    "\n",
    "screen = Screen()\n",
    "\n",
    "# Using The Coordinates Of A Pixel, Return It's RGB Value\n",
    "def get_pixel_rgb(x: int, y: int) -> tuple[int, int, int]:\n",
    "    return (255/screen.width() * x, 0, 255 / screen.height() * y)\n",
    "\n",
    "# Fill Only A Row\n",
    "def fill_screen_row(y: int) -> None:\n",
    "    for x in range(screen.width()):\n",
    "        screen[x, y] = get_pixel_rgb(x, y)\n",
    "\n",
    "# Fill Your Screen... If Only It Was A Little Faster\n",
    "def fill_screen() -> None:\n",
    "    for y in range(screen.height()):\n",
    "        fill_screen_row(y)\n",
    "\n",
    "# This Is Cheating... It Should Be Left As An Exercise\n",
    "def fill_screen_cheat() -> None:\n",
    "    th_pool = [None] * screen.height()\n",
    "\n",
    "    for i in range(screen.height()):\n",
    "        th_pool[i] = Thread(target=fill_screen_row, args=(i,))\n",
    "        th_pool[i].start()\n",
    "\n",
    "    for th in th_pool:\n",
    "        th.join()\n",
    "\n",
    "#fill_screen()\n",
    "fill_screen_cheat()"
   ]
  },
  {
   "cell_type": "markdown",
   "metadata": {},
   "source": [
    "---\n",
    "# **Asynchronousity:**"
   ]
  },
  {
   "cell_type": "code",
   "execution_count": null,
   "metadata": {},
   "outputs": [],
   "source": [
    "from PDC.Asynchronousity import "
   ]
  },
  {
   "cell_type": "markdown",
   "metadata": {},
   "source": [
    "---\n",
    "# **Performance:**"
   ]
  },
  {
   "cell_type": "code",
   "execution_count": null,
   "metadata": {},
   "outputs": [],
   "source": [
    "from PDC.Performance import run_series"
    "\n",
    "import ipywidgets as widgets"
    "\n",
    "# First Function\n",
    "def finiteseries(a, r, n):\n",
    "    sum = 0\n",
    "    i = 0\n",
    "    while i < n:\n",
    "     sum = sum + a\n",
    "     a = a * r\n",
    "     i = i + 1\n",
    "    return sum\n",
    "# Second Function\n",
    "def infiniteseries(A, R):\n",
    "    if abs(R) >= 1:\n",
    "      return "Infinite"",\n",
    "\n",
    "    sum = A / (1 - R)\n",
    "    return sum\n",
    "\n",
    "#Can change a, r, n, A, and R in the PDC.performance file",
    "def time_finiteseries(a, r, n):\n",
    "    finiteseries(a, r, n)\n",
    "\n",
    "def time_infiniteseries(A, R):\n",
    "    infiniteseries(A, R)\n",
    "\n",
    "button = widgets.Button(description="Run Series Calculations")\n",
    "\n",
    "button.on_click(run_series)\n",
    "\n",
    "display(button)\n"
   ]
  }
 ],
 "metadata": {
  "kernelspec": {
   "display_name": "base",
   "language": "python",
   "name": "python3"
  },
  "language_info": {
   "codemirror_mode": {
    "name": "ipython",
    "version": 3
   },
   "file_extension": ".py",
   "mimetype": "text/x-python",
   "name": "python",
   "nbconvert_exporter": "python",
   "pygments_lexer": "ipython3",
   "version": "3.10.11"
  }
 },
 "nbformat": 4,
 "nbformat_minor": 2
}
